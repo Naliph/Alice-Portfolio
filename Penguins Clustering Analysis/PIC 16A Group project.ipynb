{
 "cells": [
  {
   "cell_type": "markdown",
   "metadata": {},
   "source": [
    "# PIC 16A Mini-Project\n",
    "#### A look at the Palmer Penguins Dataset using python"
   ]
  },
  {
   "cell_type": "markdown",
   "metadata": {},
   "source": [
    "## Exploratory Analysis\n",
    "\n",
    "There are too many penguins! We are trying to figure out which traits are most useful to accurately categorize penguins into their correct species. We want to use lowest number of traits to yield a very high accuracy.\n"
   ]
  },
  {
   "cell_type": "markdown",
   "metadata": {},
   "source": [
    "First, we are going to import the correct python packages and modules. Then, we will load, open, and read the Palmer penguin data set."
   ]
  },
  {
   "cell_type": "code",
   "execution_count": 1,
   "metadata": {},
   "outputs": [
    {
     "data": {
      "text/html": [
       "<div>\n",
       "<style scoped>\n",
       "    .dataframe tbody tr th:only-of-type {\n",
       "        vertical-align: middle;\n",
       "    }\n",
       "\n",
       "    .dataframe tbody tr th {\n",
       "        vertical-align: top;\n",
       "    }\n",
       "\n",
       "    .dataframe thead th {\n",
       "        text-align: right;\n",
       "    }\n",
       "</style>\n",
       "<table border=\"1\" class=\"dataframe\">\n",
       "  <thead>\n",
       "    <tr style=\"text-align: right;\">\n",
       "      <th></th>\n",
       "      <th>studyName</th>\n",
       "      <th>Sample Number</th>\n",
       "      <th>Species</th>\n",
       "      <th>Region</th>\n",
       "      <th>Island</th>\n",
       "      <th>Stage</th>\n",
       "      <th>Individual ID</th>\n",
       "      <th>Clutch Completion</th>\n",
       "      <th>Date Egg</th>\n",
       "      <th>Culmen Length (mm)</th>\n",
       "      <th>Culmen Depth (mm)</th>\n",
       "      <th>Flipper Length (mm)</th>\n",
       "      <th>Body Mass (g)</th>\n",
       "      <th>Sex</th>\n",
       "      <th>Delta 15 N (o/oo)</th>\n",
       "      <th>Delta 13 C (o/oo)</th>\n",
       "      <th>Comments</th>\n",
       "    </tr>\n",
       "  </thead>\n",
       "  <tbody>\n",
       "    <tr>\n",
       "      <th>0</th>\n",
       "      <td>PAL0708</td>\n",
       "      <td>1</td>\n",
       "      <td>Adelie Penguin (Pygoscelis adeliae)</td>\n",
       "      <td>Anvers</td>\n",
       "      <td>Torgersen</td>\n",
       "      <td>Adult, 1 Egg Stage</td>\n",
       "      <td>N1A1</td>\n",
       "      <td>Yes</td>\n",
       "      <td>11/11/07</td>\n",
       "      <td>39.1</td>\n",
       "      <td>18.7</td>\n",
       "      <td>181.0</td>\n",
       "      <td>3750.0</td>\n",
       "      <td>MALE</td>\n",
       "      <td>NaN</td>\n",
       "      <td>NaN</td>\n",
       "      <td>Not enough blood for isotopes.</td>\n",
       "    </tr>\n",
       "    <tr>\n",
       "      <th>1</th>\n",
       "      <td>PAL0708</td>\n",
       "      <td>2</td>\n",
       "      <td>Adelie Penguin (Pygoscelis adeliae)</td>\n",
       "      <td>Anvers</td>\n",
       "      <td>Torgersen</td>\n",
       "      <td>Adult, 1 Egg Stage</td>\n",
       "      <td>N1A2</td>\n",
       "      <td>Yes</td>\n",
       "      <td>11/11/07</td>\n",
       "      <td>39.5</td>\n",
       "      <td>17.4</td>\n",
       "      <td>186.0</td>\n",
       "      <td>3800.0</td>\n",
       "      <td>FEMALE</td>\n",
       "      <td>8.94956</td>\n",
       "      <td>-24.69454</td>\n",
       "      <td>NaN</td>\n",
       "    </tr>\n",
       "    <tr>\n",
       "      <th>2</th>\n",
       "      <td>PAL0708</td>\n",
       "      <td>3</td>\n",
       "      <td>Adelie Penguin (Pygoscelis adeliae)</td>\n",
       "      <td>Anvers</td>\n",
       "      <td>Torgersen</td>\n",
       "      <td>Adult, 1 Egg Stage</td>\n",
       "      <td>N2A1</td>\n",
       "      <td>Yes</td>\n",
       "      <td>11/16/07</td>\n",
       "      <td>40.3</td>\n",
       "      <td>18.0</td>\n",
       "      <td>195.0</td>\n",
       "      <td>3250.0</td>\n",
       "      <td>FEMALE</td>\n",
       "      <td>8.36821</td>\n",
       "      <td>-25.33302</td>\n",
       "      <td>NaN</td>\n",
       "    </tr>\n",
       "    <tr>\n",
       "      <th>3</th>\n",
       "      <td>PAL0708</td>\n",
       "      <td>4</td>\n",
       "      <td>Adelie Penguin (Pygoscelis adeliae)</td>\n",
       "      <td>Anvers</td>\n",
       "      <td>Torgersen</td>\n",
       "      <td>Adult, 1 Egg Stage</td>\n",
       "      <td>N2A2</td>\n",
       "      <td>Yes</td>\n",
       "      <td>11/16/07</td>\n",
       "      <td>NaN</td>\n",
       "      <td>NaN</td>\n",
       "      <td>NaN</td>\n",
       "      <td>NaN</td>\n",
       "      <td>NaN</td>\n",
       "      <td>NaN</td>\n",
       "      <td>NaN</td>\n",
       "      <td>Adult not sampled.</td>\n",
       "    </tr>\n",
       "    <tr>\n",
       "      <th>4</th>\n",
       "      <td>PAL0708</td>\n",
       "      <td>5</td>\n",
       "      <td>Adelie Penguin (Pygoscelis adeliae)</td>\n",
       "      <td>Anvers</td>\n",
       "      <td>Torgersen</td>\n",
       "      <td>Adult, 1 Egg Stage</td>\n",
       "      <td>N3A1</td>\n",
       "      <td>Yes</td>\n",
       "      <td>11/16/07</td>\n",
       "      <td>36.7</td>\n",
       "      <td>19.3</td>\n",
       "      <td>193.0</td>\n",
       "      <td>3450.0</td>\n",
       "      <td>FEMALE</td>\n",
       "      <td>8.76651</td>\n",
       "      <td>-25.32426</td>\n",
       "      <td>NaN</td>\n",
       "    </tr>\n",
       "    <tr>\n",
       "      <th>...</th>\n",
       "      <td>...</td>\n",
       "      <td>...</td>\n",
       "      <td>...</td>\n",
       "      <td>...</td>\n",
       "      <td>...</td>\n",
       "      <td>...</td>\n",
       "      <td>...</td>\n",
       "      <td>...</td>\n",
       "      <td>...</td>\n",
       "      <td>...</td>\n",
       "      <td>...</td>\n",
       "      <td>...</td>\n",
       "      <td>...</td>\n",
       "      <td>...</td>\n",
       "      <td>...</td>\n",
       "      <td>...</td>\n",
       "      <td>...</td>\n",
       "    </tr>\n",
       "    <tr>\n",
       "      <th>339</th>\n",
       "      <td>PAL0910</td>\n",
       "      <td>120</td>\n",
       "      <td>Gentoo penguin (Pygoscelis papua)</td>\n",
       "      <td>Anvers</td>\n",
       "      <td>Biscoe</td>\n",
       "      <td>Adult, 1 Egg Stage</td>\n",
       "      <td>N38A2</td>\n",
       "      <td>No</td>\n",
       "      <td>12/1/09</td>\n",
       "      <td>NaN</td>\n",
       "      <td>NaN</td>\n",
       "      <td>NaN</td>\n",
       "      <td>NaN</td>\n",
       "      <td>NaN</td>\n",
       "      <td>NaN</td>\n",
       "      <td>NaN</td>\n",
       "      <td>NaN</td>\n",
       "    </tr>\n",
       "    <tr>\n",
       "      <th>340</th>\n",
       "      <td>PAL0910</td>\n",
       "      <td>121</td>\n",
       "      <td>Gentoo penguin (Pygoscelis papua)</td>\n",
       "      <td>Anvers</td>\n",
       "      <td>Biscoe</td>\n",
       "      <td>Adult, 1 Egg Stage</td>\n",
       "      <td>N39A1</td>\n",
       "      <td>Yes</td>\n",
       "      <td>11/22/09</td>\n",
       "      <td>46.8</td>\n",
       "      <td>14.3</td>\n",
       "      <td>215.0</td>\n",
       "      <td>4850.0</td>\n",
       "      <td>FEMALE</td>\n",
       "      <td>8.41151</td>\n",
       "      <td>-26.13832</td>\n",
       "      <td>NaN</td>\n",
       "    </tr>\n",
       "    <tr>\n",
       "      <th>341</th>\n",
       "      <td>PAL0910</td>\n",
       "      <td>122</td>\n",
       "      <td>Gentoo penguin (Pygoscelis papua)</td>\n",
       "      <td>Anvers</td>\n",
       "      <td>Biscoe</td>\n",
       "      <td>Adult, 1 Egg Stage</td>\n",
       "      <td>N39A2</td>\n",
       "      <td>Yes</td>\n",
       "      <td>11/22/09</td>\n",
       "      <td>50.4</td>\n",
       "      <td>15.7</td>\n",
       "      <td>222.0</td>\n",
       "      <td>5750.0</td>\n",
       "      <td>MALE</td>\n",
       "      <td>8.30166</td>\n",
       "      <td>-26.04117</td>\n",
       "      <td>NaN</td>\n",
       "    </tr>\n",
       "    <tr>\n",
       "      <th>342</th>\n",
       "      <td>PAL0910</td>\n",
       "      <td>123</td>\n",
       "      <td>Gentoo penguin (Pygoscelis papua)</td>\n",
       "      <td>Anvers</td>\n",
       "      <td>Biscoe</td>\n",
       "      <td>Adult, 1 Egg Stage</td>\n",
       "      <td>N43A1</td>\n",
       "      <td>Yes</td>\n",
       "      <td>11/22/09</td>\n",
       "      <td>45.2</td>\n",
       "      <td>14.8</td>\n",
       "      <td>212.0</td>\n",
       "      <td>5200.0</td>\n",
       "      <td>FEMALE</td>\n",
       "      <td>8.24246</td>\n",
       "      <td>-26.11969</td>\n",
       "      <td>NaN</td>\n",
       "    </tr>\n",
       "    <tr>\n",
       "      <th>343</th>\n",
       "      <td>PAL0910</td>\n",
       "      <td>124</td>\n",
       "      <td>Gentoo penguin (Pygoscelis papua)</td>\n",
       "      <td>Anvers</td>\n",
       "      <td>Biscoe</td>\n",
       "      <td>Adult, 1 Egg Stage</td>\n",
       "      <td>N43A2</td>\n",
       "      <td>Yes</td>\n",
       "      <td>11/22/09</td>\n",
       "      <td>49.9</td>\n",
       "      <td>16.1</td>\n",
       "      <td>213.0</td>\n",
       "      <td>5400.0</td>\n",
       "      <td>MALE</td>\n",
       "      <td>8.36390</td>\n",
       "      <td>-26.15531</td>\n",
       "      <td>NaN</td>\n",
       "    </tr>\n",
       "  </tbody>\n",
       "</table>\n",
       "<p>344 rows × 17 columns</p>\n",
       "</div>"
      ],
      "text/plain": [
       "    studyName  Sample Number                              Species  Region  \\\n",
       "0     PAL0708              1  Adelie Penguin (Pygoscelis adeliae)  Anvers   \n",
       "1     PAL0708              2  Adelie Penguin (Pygoscelis adeliae)  Anvers   \n",
       "2     PAL0708              3  Adelie Penguin (Pygoscelis adeliae)  Anvers   \n",
       "3     PAL0708              4  Adelie Penguin (Pygoscelis adeliae)  Anvers   \n",
       "4     PAL0708              5  Adelie Penguin (Pygoscelis adeliae)  Anvers   \n",
       "..        ...            ...                                  ...     ...   \n",
       "339   PAL0910            120    Gentoo penguin (Pygoscelis papua)  Anvers   \n",
       "340   PAL0910            121    Gentoo penguin (Pygoscelis papua)  Anvers   \n",
       "341   PAL0910            122    Gentoo penguin (Pygoscelis papua)  Anvers   \n",
       "342   PAL0910            123    Gentoo penguin (Pygoscelis papua)  Anvers   \n",
       "343   PAL0910            124    Gentoo penguin (Pygoscelis papua)  Anvers   \n",
       "\n",
       "        Island               Stage Individual ID Clutch Completion  Date Egg  \\\n",
       "0    Torgersen  Adult, 1 Egg Stage          N1A1               Yes  11/11/07   \n",
       "1    Torgersen  Adult, 1 Egg Stage          N1A2               Yes  11/11/07   \n",
       "2    Torgersen  Adult, 1 Egg Stage          N2A1               Yes  11/16/07   \n",
       "3    Torgersen  Adult, 1 Egg Stage          N2A2               Yes  11/16/07   \n",
       "4    Torgersen  Adult, 1 Egg Stage          N3A1               Yes  11/16/07   \n",
       "..         ...                 ...           ...               ...       ...   \n",
       "339     Biscoe  Adult, 1 Egg Stage         N38A2                No   12/1/09   \n",
       "340     Biscoe  Adult, 1 Egg Stage         N39A1               Yes  11/22/09   \n",
       "341     Biscoe  Adult, 1 Egg Stage         N39A2               Yes  11/22/09   \n",
       "342     Biscoe  Adult, 1 Egg Stage         N43A1               Yes  11/22/09   \n",
       "343     Biscoe  Adult, 1 Egg Stage         N43A2               Yes  11/22/09   \n",
       "\n",
       "     Culmen Length (mm)  Culmen Depth (mm)  Flipper Length (mm)  \\\n",
       "0                  39.1               18.7                181.0   \n",
       "1                  39.5               17.4                186.0   \n",
       "2                  40.3               18.0                195.0   \n",
       "3                   NaN                NaN                  NaN   \n",
       "4                  36.7               19.3                193.0   \n",
       "..                  ...                ...                  ...   \n",
       "339                 NaN                NaN                  NaN   \n",
       "340                46.8               14.3                215.0   \n",
       "341                50.4               15.7                222.0   \n",
       "342                45.2               14.8                212.0   \n",
       "343                49.9               16.1                213.0   \n",
       "\n",
       "     Body Mass (g)     Sex  Delta 15 N (o/oo)  Delta 13 C (o/oo)  \\\n",
       "0           3750.0    MALE                NaN                NaN   \n",
       "1           3800.0  FEMALE            8.94956          -24.69454   \n",
       "2           3250.0  FEMALE            8.36821          -25.33302   \n",
       "3              NaN     NaN                NaN                NaN   \n",
       "4           3450.0  FEMALE            8.76651          -25.32426   \n",
       "..             ...     ...                ...                ...   \n",
       "339            NaN     NaN                NaN                NaN   \n",
       "340         4850.0  FEMALE            8.41151          -26.13832   \n",
       "341         5750.0    MALE            8.30166          -26.04117   \n",
       "342         5200.0  FEMALE            8.24246          -26.11969   \n",
       "343         5400.0    MALE            8.36390          -26.15531   \n",
       "\n",
       "                           Comments  \n",
       "0    Not enough blood for isotopes.  \n",
       "1                               NaN  \n",
       "2                               NaN  \n",
       "3                Adult not sampled.  \n",
       "4                               NaN  \n",
       "..                              ...  \n",
       "339                             NaN  \n",
       "340                             NaN  \n",
       "341                             NaN  \n",
       "342                             NaN  \n",
       "343                             NaN  \n",
       "\n",
       "[344 rows x 17 columns]"
      ]
     },
     "execution_count": 1,
     "metadata": {},
     "output_type": "execute_result"
    }
   ],
   "source": [
    "import pandas as pd\n",
    "import numpy as np\n",
    "import urllib\n",
    "from matplotlib import pyplot as plt\n",
    "from sklearn import tree, preprocessing\n",
    "from sklearn.model_selection import train_test_split\n",
    "from sklearn.preprocessing import StandardScaler\n",
    "from sklearn.model_selection import cross_val_score\n",
    "from sklearn.neural_network import MLPClassifier\n",
    "\n",
    "#load data set\n",
    "url = \"https://philchodrow.github.io/PIC16A/datasets/palmer_penguins.csv\"\n",
    "filedata = urllib.request.urlopen(url)\n",
    "to_write = filedata.read()\n",
    "\n",
    "#open data set\n",
    "with open(\"palmer_penguins.csv\", \"wb\") as f:\n",
    "    f.write(to_write)\n",
    "    \n",
    "penguins = pd.read_csv(\"palmer_penguins.csv\")\n",
    "\n",
    "penguins"
   ]
  },
  {
   "cell_type": "markdown",
   "metadata": {},
   "source": [
    "After examining the data table above, we can see that the relevant traits to determining species are the island, culmen length, culmen depth, flipper length, body mass, sex, and nitrogen and carbon concentrations in their blood. The other columns provide identification information or data that is the same across all penguins. We are not going to focus on the nitrogen and carbon concentrations, so we are going to disregard those too. We are only going to load the relevant columns mentioned."
   ]
  },
  {
   "cell_type": "code",
   "execution_count": 2,
   "metadata": {},
   "outputs": [
    {
     "data": {
      "text/html": [
       "<div>\n",
       "<style scoped>\n",
       "    .dataframe tbody tr th:only-of-type {\n",
       "        vertical-align: middle;\n",
       "    }\n",
       "\n",
       "    .dataframe tbody tr th {\n",
       "        vertical-align: top;\n",
       "    }\n",
       "\n",
       "    .dataframe thead th {\n",
       "        text-align: right;\n",
       "    }\n",
       "</style>\n",
       "<table border=\"1\" class=\"dataframe\">\n",
       "  <thead>\n",
       "    <tr style=\"text-align: right;\">\n",
       "      <th></th>\n",
       "      <th>Species</th>\n",
       "      <th>Island</th>\n",
       "      <th>Culmen Length (mm)</th>\n",
       "      <th>Culmen Depth (mm)</th>\n",
       "      <th>Flipper Length (mm)</th>\n",
       "      <th>Body Mass (g)</th>\n",
       "      <th>Sex</th>\n",
       "    </tr>\n",
       "  </thead>\n",
       "  <tbody>\n",
       "    <tr>\n",
       "      <th>0</th>\n",
       "      <td>Adelie</td>\n",
       "      <td>Torgersen</td>\n",
       "      <td>39.1</td>\n",
       "      <td>18.7</td>\n",
       "      <td>181.0</td>\n",
       "      <td>3750.0</td>\n",
       "      <td>MALE</td>\n",
       "    </tr>\n",
       "    <tr>\n",
       "      <th>1</th>\n",
       "      <td>Adelie</td>\n",
       "      <td>Torgersen</td>\n",
       "      <td>39.5</td>\n",
       "      <td>17.4</td>\n",
       "      <td>186.0</td>\n",
       "      <td>3800.0</td>\n",
       "      <td>FEMALE</td>\n",
       "    </tr>\n",
       "    <tr>\n",
       "      <th>2</th>\n",
       "      <td>Adelie</td>\n",
       "      <td>Torgersen</td>\n",
       "      <td>40.3</td>\n",
       "      <td>18.0</td>\n",
       "      <td>195.0</td>\n",
       "      <td>3250.0</td>\n",
       "      <td>FEMALE</td>\n",
       "    </tr>\n",
       "    <tr>\n",
       "      <th>3</th>\n",
       "      <td>Adelie</td>\n",
       "      <td>Torgersen</td>\n",
       "      <td>NaN</td>\n",
       "      <td>NaN</td>\n",
       "      <td>NaN</td>\n",
       "      <td>NaN</td>\n",
       "      <td>NaN</td>\n",
       "    </tr>\n",
       "    <tr>\n",
       "      <th>4</th>\n",
       "      <td>Adelie</td>\n",
       "      <td>Torgersen</td>\n",
       "      <td>36.7</td>\n",
       "      <td>19.3</td>\n",
       "      <td>193.0</td>\n",
       "      <td>3450.0</td>\n",
       "      <td>FEMALE</td>\n",
       "    </tr>\n",
       "  </tbody>\n",
       "</table>\n",
       "</div>"
      ],
      "text/plain": [
       "  Species     Island  Culmen Length (mm)  Culmen Depth (mm)  \\\n",
       "0  Adelie  Torgersen                39.1               18.7   \n",
       "1  Adelie  Torgersen                39.5               17.4   \n",
       "2  Adelie  Torgersen                40.3               18.0   \n",
       "3  Adelie  Torgersen                 NaN                NaN   \n",
       "4  Adelie  Torgersen                36.7               19.3   \n",
       "\n",
       "   Flipper Length (mm)  Body Mass (g)     Sex  \n",
       "0                181.0         3750.0    MALE  \n",
       "1                186.0         3800.0  FEMALE  \n",
       "2                195.0         3250.0  FEMALE  \n",
       "3                  NaN            NaN     NaN  \n",
       "4                193.0         3450.0  FEMALE  "
      ]
     },
     "execution_count": 2,
     "metadata": {},
     "output_type": "execute_result"
    }
   ],
   "source": [
    "penguins = pd.read_csv('palmer_penguins.csv')[['Species', 'Island', 'Culmen Length (mm)', 'Culmen Depth (mm)', 'Flipper Length (mm)', 'Body Mass (g)', 'Sex']]\n",
    "\n",
    "# shorten the species name\n",
    "penguins[\"Species\"] = penguins[\"Species\"].str.split().str.get(0)\n",
    "\n",
    "penguins.head()"
   ]
  },
  {
   "cell_type": "markdown",
   "metadata": {},
   "source": [
    "We do not want to include penguins with missing data in the analysis. We need to remove rows with missing values. Looking through the data one may notice that there is one row "
   ]
  },
  {
   "cell_type": "code",
   "execution_count": 3,
   "metadata": {},
   "outputs": [],
   "source": [
    "penguins =  penguins.dropna()"
   ]
  },
  {
   "cell_type": "markdown",
   "metadata": {},
   "source": [
    "We also want to make sure that there are no mistakes in the data. Let's make sure that the 'Sex' column includes entries that are only `'MALE'` or `'FEMALE'`."
   ]
  },
  {
   "cell_type": "code",
   "execution_count": 4,
   "metadata": {},
   "outputs": [
    {
     "data": {
      "text/plain": [
       "{'.', 'FEMALE', 'MALE'}"
      ]
     },
     "execution_count": 4,
     "metadata": {},
     "output_type": "execute_result"
    }
   ],
   "source": [
    "set(penguins['Sex'])"
   ]
  },
  {
   "cell_type": "markdown",
   "metadata": {},
   "source": [
    "There is at least one row where the sex of the penguin is listed as `'.'`. Looking through the data there is only one row like this. We can remove it."
   ]
  },
  {
   "cell_type": "code",
   "execution_count": 5,
   "metadata": {},
   "outputs": [
    {
     "data": {
      "text/html": [
       "<div>\n",
       "<style scoped>\n",
       "    .dataframe tbody tr th:only-of-type {\n",
       "        vertical-align: middle;\n",
       "    }\n",
       "\n",
       "    .dataframe tbody tr th {\n",
       "        vertical-align: top;\n",
       "    }\n",
       "\n",
       "    .dataframe thead th {\n",
       "        text-align: right;\n",
       "    }\n",
       "</style>\n",
       "<table border=\"1\" class=\"dataframe\">\n",
       "  <thead>\n",
       "    <tr style=\"text-align: right;\">\n",
       "      <th></th>\n",
       "      <th>Species</th>\n",
       "      <th>Island</th>\n",
       "      <th>Culmen Length (mm)</th>\n",
       "      <th>Culmen Depth (mm)</th>\n",
       "      <th>Flipper Length (mm)</th>\n",
       "      <th>Body Mass (g)</th>\n",
       "      <th>Sex</th>\n",
       "    </tr>\n",
       "  </thead>\n",
       "  <tbody>\n",
       "    <tr>\n",
       "      <th>0</th>\n",
       "      <td>Adelie</td>\n",
       "      <td>Torgersen</td>\n",
       "      <td>39.1</td>\n",
       "      <td>18.7</td>\n",
       "      <td>181.0</td>\n",
       "      <td>3750.0</td>\n",
       "      <td>MALE</td>\n",
       "    </tr>\n",
       "    <tr>\n",
       "      <th>1</th>\n",
       "      <td>Adelie</td>\n",
       "      <td>Torgersen</td>\n",
       "      <td>39.5</td>\n",
       "      <td>17.4</td>\n",
       "      <td>186.0</td>\n",
       "      <td>3800.0</td>\n",
       "      <td>FEMALE</td>\n",
       "    </tr>\n",
       "    <tr>\n",
       "      <th>2</th>\n",
       "      <td>Adelie</td>\n",
       "      <td>Torgersen</td>\n",
       "      <td>40.3</td>\n",
       "      <td>18.0</td>\n",
       "      <td>195.0</td>\n",
       "      <td>3250.0</td>\n",
       "      <td>FEMALE</td>\n",
       "    </tr>\n",
       "    <tr>\n",
       "      <th>4</th>\n",
       "      <td>Adelie</td>\n",
       "      <td>Torgersen</td>\n",
       "      <td>36.7</td>\n",
       "      <td>19.3</td>\n",
       "      <td>193.0</td>\n",
       "      <td>3450.0</td>\n",
       "      <td>FEMALE</td>\n",
       "    </tr>\n",
       "    <tr>\n",
       "      <th>5</th>\n",
       "      <td>Adelie</td>\n",
       "      <td>Torgersen</td>\n",
       "      <td>39.3</td>\n",
       "      <td>20.6</td>\n",
       "      <td>190.0</td>\n",
       "      <td>3650.0</td>\n",
       "      <td>MALE</td>\n",
       "    </tr>\n",
       "  </tbody>\n",
       "</table>\n",
       "</div>"
      ],
      "text/plain": [
       "  Species     Island  Culmen Length (mm)  Culmen Depth (mm)  \\\n",
       "0  Adelie  Torgersen                39.1               18.7   \n",
       "1  Adelie  Torgersen                39.5               17.4   \n",
       "2  Adelie  Torgersen                40.3               18.0   \n",
       "4  Adelie  Torgersen                36.7               19.3   \n",
       "5  Adelie  Torgersen                39.3               20.6   \n",
       "\n",
       "   Flipper Length (mm)  Body Mass (g)     Sex  \n",
       "0                181.0         3750.0    MALE  \n",
       "1                186.0         3800.0  FEMALE  \n",
       "2                195.0         3250.0  FEMALE  \n",
       "4                193.0         3450.0  FEMALE  \n",
       "5                190.0         3650.0    MALE  "
      ]
     },
     "execution_count": 5,
     "metadata": {},
     "output_type": "execute_result"
    }
   ],
   "source": [
    "penguins = penguins[penguins['Sex'] != '.']\n",
    "penguins.head()"
   ]
  },
  {
   "cell_type": "markdown",
   "metadata": {},
   "source": [
    "Now, we want to figure out the average body measurements for each species. We want to figure out if there are large differences that could help us categorize the penguins in the future. We are going to create a data table displaying the average measurements for each species using the groupby function. "
   ]
  },
  {
   "cell_type": "code",
   "execution_count": 6,
   "metadata": {},
   "outputs": [
    {
     "data": {
      "text/html": [
       "<div>\n",
       "<style scoped>\n",
       "    .dataframe tbody tr th:only-of-type {\n",
       "        vertical-align: middle;\n",
       "    }\n",
       "\n",
       "    .dataframe tbody tr th {\n",
       "        vertical-align: top;\n",
       "    }\n",
       "\n",
       "    .dataframe thead th {\n",
       "        text-align: right;\n",
       "    }\n",
       "</style>\n",
       "<table border=\"1\" class=\"dataframe\">\n",
       "  <thead>\n",
       "    <tr style=\"text-align: right;\">\n",
       "      <th></th>\n",
       "      <th>Culmen Length (mm)</th>\n",
       "      <th>Culmen Depth (mm)</th>\n",
       "      <th>Flipper Length (mm)</th>\n",
       "      <th>Body Mass (g)</th>\n",
       "    </tr>\n",
       "    <tr>\n",
       "      <th>Species</th>\n",
       "      <th></th>\n",
       "      <th></th>\n",
       "      <th></th>\n",
       "      <th></th>\n",
       "    </tr>\n",
       "  </thead>\n",
       "  <tbody>\n",
       "    <tr>\n",
       "      <th>Adelie</th>\n",
       "      <td>38.82</td>\n",
       "      <td>18.35</td>\n",
       "      <td>190.10</td>\n",
       "      <td>3706.16</td>\n",
       "    </tr>\n",
       "    <tr>\n",
       "      <th>Chinstrap</th>\n",
       "      <td>48.83</td>\n",
       "      <td>18.42</td>\n",
       "      <td>195.82</td>\n",
       "      <td>3733.09</td>\n",
       "    </tr>\n",
       "    <tr>\n",
       "      <th>Gentoo</th>\n",
       "      <td>47.57</td>\n",
       "      <td>15.00</td>\n",
       "      <td>217.24</td>\n",
       "      <td>5092.44</td>\n",
       "    </tr>\n",
       "  </tbody>\n",
       "</table>\n",
       "</div>"
      ],
      "text/plain": [
       "           Culmen Length (mm)  Culmen Depth (mm)  Flipper Length (mm)  \\\n",
       "Species                                                                 \n",
       "Adelie                  38.82              18.35               190.10   \n",
       "Chinstrap               48.83              18.42               195.82   \n",
       "Gentoo                  47.57              15.00               217.24   \n",
       "\n",
       "           Body Mass (g)  \n",
       "Species                   \n",
       "Adelie           3706.16  \n",
       "Chinstrap        3733.09  \n",
       "Gentoo           5092.44  "
      ]
     },
     "execution_count": 6,
     "metadata": {},
     "output_type": "execute_result"
    }
   ],
   "source": [
    "def penguin_summary_table(group_cols, value_cols):\n",
    "    df = penguins[group_cols + value_cols]\n",
    "    return df.groupby(group_cols).mean().round(2) \n",
    "\n",
    "# Table 1 - quantitative measurements by species\n",
    "\n",
    "penguin_summary_table([\"Species\"], [\"Culmen Length (mm)\", \"Culmen Depth (mm)\", \"Flipper Length (mm)\", \"Body Mass (g)\"])\n"
   ]
  },
  {
   "cell_type": "markdown",
   "metadata": {},
   "source": [
    "We can see that the Adelie penguins have a significantly shorter Culmen Length at an average of 38.82 mm as compared to 48.83mm and 47.57 mm for Chinstrap and Gentoo penguins respectively. Gentoo penguins have the smallest Culmen Depth at an average of 15 mm compared to 18.35 and 18.42 mm. Gentoo penguins also have the largest body mass at averaging a weight over 5000 g compared to the other two species' with averages around 3700 g. Gentoo penguins also have the longest flippers on average with a mean of 217.24 mm while Adelies' and Chinstraps' average flipper lengths are around 190-195 mm. \n",
    "\n",
    "Some of most important data we can take away from this table is the large body mass of Gentoo penguins. It is so much greater than the other two penguins, that it will be a great trait to focus on for classifying penguins. The flipper length data as well as the culmen depth data shows a similar disticntion where Gentoo penguins largely differ from the other two species. We are just going to focus on the body mass data and disregard the flipper length and culmen depth data because they are helping us find the same distinction. \n",
    "\n",
    "The culmen length data is important because it is an easy way to distinguish Adelie penguins. \n",
    "\n",
    "We are going to graph the penguins' body masses and culmen lengths to figure out how the two measurements are related."
   ]
  },
  {
   "cell_type": "code",
   "execution_count": 7,
   "metadata": {},
   "outputs": [
    {
     "name": "stdout",
     "output_type": "stream",
     "text": [
      "{'Chinstrap', 'Adelie', 'Gentoo'}\n"
     ]
    },
    {
     "data": {
      "text/plain": [
       "<matplotlib.legend.Legend at 0x15c64ae0460>"
      ]
     },
     "execution_count": 7,
     "metadata": {},
     "output_type": "execute_result"
    },
    {
     "data": {
      "image/png": "[encoded data removed]",
      "text/plain": [
       "<Figure size 432x288 with 1 Axes>"
      ]
     },
     "metadata": {
      "needs_background": "light"
     },
     "output_type": "display_data"
    }
   ],
   "source": [
    "# Graph 1 - culmen length x body mass by species\n",
    "\n",
    "fig, ax = plt.subplots(1)\n",
    "ax.set(xlabel = \"Culmen Length (mm)\",\n",
    "ylabel = \"Body Mass (g)\")\n",
    "ax.clear()\n",
    "species_set = set(penguins['Species'])\n",
    "print(species_set)\n",
    "ax.set(xlabel = \"Culmen Length (mm)\",\n",
    "ylabel = \"Body Mass (g)\")\n",
    "for species in species_set:\n",
    "    ax.scatter(penguins[penguins['Species'] == species]['Culmen Length (mm)'],penguins[penguins['Species'] == species]['Body Mass (g)'], label = str(species), alpha = 0.5)\n",
    "ax.legend()\n"
   ]
  },
  {
   "cell_type": "markdown",
   "metadata": {},
   "source": [
    "There is a correlation between these two measurements. Penguins with smaller culmen lengths and body masses are most likely Adelie penguins. Penguins with long culmens and lower body masses are most likely Chinstraps. And penguins with high body masses and long culmens are most likely Gentoo penguins. \n",
    "\n",
    "The clusters do overlap a lot, so we want to see if another trait would help distinguish the penguin species where the measurements are close to those of other species.\n",
    "\n",
    "First, let's look at the penguins' mean measurements on each island."
   ]
  },
  {
   "cell_type": "code",
   "execution_count": 8,
   "metadata": {},
   "outputs": [
    {
     "data": {
      "text/html": [
       "<div>\n",
       "<style scoped>\n",
       "    .dataframe tbody tr th:only-of-type {\n",
       "        vertical-align: middle;\n",
       "    }\n",
       "\n",
       "    .dataframe tbody tr th {\n",
       "        vertical-align: top;\n",
       "    }\n",
       "\n",
       "    .dataframe thead th {\n",
       "        text-align: right;\n",
       "    }\n",
       "</style>\n",
       "<table border=\"1\" class=\"dataframe\">\n",
       "  <thead>\n",
       "    <tr style=\"text-align: right;\">\n",
       "      <th></th>\n",
       "      <th></th>\n",
       "      <th>Culmen Length (mm)</th>\n",
       "      <th>Body Mass (g)</th>\n",
       "    </tr>\n",
       "    <tr>\n",
       "      <th>Species</th>\n",
       "      <th>Island</th>\n",
       "      <th></th>\n",
       "      <th></th>\n",
       "    </tr>\n",
       "  </thead>\n",
       "  <tbody>\n",
       "    <tr>\n",
       "      <th rowspan=\"3\" valign=\"top\">Adelie</th>\n",
       "      <th>Biscoe</th>\n",
       "      <td>38.98</td>\n",
       "      <td>3709.66</td>\n",
       "    </tr>\n",
       "    <tr>\n",
       "      <th>Dream</th>\n",
       "      <td>38.52</td>\n",
       "      <td>3701.36</td>\n",
       "    </tr>\n",
       "    <tr>\n",
       "      <th>Torgersen</th>\n",
       "      <td>39.04</td>\n",
       "      <td>3708.51</td>\n",
       "    </tr>\n",
       "    <tr>\n",
       "      <th>Chinstrap</th>\n",
       "      <th>Dream</th>\n",
       "      <td>48.83</td>\n",
       "      <td>3733.09</td>\n",
       "    </tr>\n",
       "    <tr>\n",
       "      <th>Gentoo</th>\n",
       "      <th>Biscoe</th>\n",
       "      <td>47.57</td>\n",
       "      <td>5092.44</td>\n",
       "    </tr>\n",
       "  </tbody>\n",
       "</table>\n",
       "</div>"
      ],
      "text/plain": [
       "                     Culmen Length (mm)  Body Mass (g)\n",
       "Species   Island                                      \n",
       "Adelie    Biscoe                  38.98        3709.66\n",
       "          Dream                   38.52        3701.36\n",
       "          Torgersen               39.04        3708.51\n",
       "Chinstrap Dream                   48.83        3733.09\n",
       "Gentoo    Biscoe                  47.57        5092.44"
      ]
     },
     "execution_count": 8,
     "metadata": {},
     "output_type": "execute_result"
    }
   ],
   "source": [
    "# Table 2 - culmen length and body mass by species & island\n",
    "\n",
    "penguin_summary_table([\"Species\", \"Island\"], [\"Culmen Length (mm)\", \"Body Mass (g)\"])"
   ]
  },
  {
   "cell_type": "markdown",
   "metadata": {},
   "source": [
    "Immediately, we notice that Chinstrap penguins are only found on Dream Island and Gentoo penguins are only found on Biscoe Island. But, Adelie penguins are found on all islands. This may be helpful in our analysis.\n",
    "\n",
    "Below we are going to graph that table to visualize the groups.\n"
   ]
  },
  {
   "cell_type": "code",
   "execution_count": 9,
   "metadata": {},
   "outputs": [
    {
     "data": {
      "text/plain": [
       "[Text(0, 0.5, 'Body Mass (g)'), Text(0.5, 0, 'Culmen Length (mm)')]"
      ]
     },
     "execution_count": 9,
     "metadata": {},
     "output_type": "execute_result"
    },
    {
     "data": {
      "image/png": "[encoded data removed]",
      "text/plain": [
       "<Figure size 1008x720 with 1 Axes>"
      ]
     },
     "metadata": {
      "needs_background": "light"
     },
     "output_type": "display_data"
    }
   ],
   "source": [
    "#Graph 2 - measurements by island\n",
    "\n",
    "loc_set = set(penguins['Island'])\n",
    "fig, ax = plt.subplots(1, figsize = (14,10))\n",
    "ax.clear()\n",
    "for loc in loc_set:\n",
    "    for species in species_set:\n",
    "        label_str = species+', '+loc \n",
    "        ax.scatter(penguins[(penguins['Species'] == species) & (penguins['Island'] == loc)]['Culmen Length (mm)'],penguins[(penguins['Species'] == species) & (penguins['Island'] == loc)]['Body Mass (g)'], label = label_str, alpha =0.5)\n",
    "ax.legend(loc = 0, framealpha = 0)\n",
    "ax.set(xlabel = \"Culmen Length (mm)\", ylabel = \"Body Mass (g)\")\n"
   ]
  },
  {
   "cell_type": "markdown",
   "metadata": {},
   "source": [
    "At first glance, it is difficult to tell what the island classification would add to our analysis, because only the Adelie penguins are split across islands. By looking closely at the data points of Adelie penguins that are close to other species measurements, we can see that some Adelies from Biscoe Island have very similar body masses and culmen lengths to Gentoo penguins which all come from Biscoe island. Similarly some Adelie penguins from Dream Island have very similar measurements to Chinstrap penguins from Dream Island. This means, knowing which island a penguin is from is not much more helpful that only knowing its body mass and culmen length.\n",
    "\n",
    "Now, we want to look at how measurements vary by sex."
   ]
  },
  {
   "cell_type": "code",
   "execution_count": 10,
   "metadata": {},
   "outputs": [
    {
     "data": {
      "text/html": [
       "<div>\n",
       "<style scoped>\n",
       "    .dataframe tbody tr th:only-of-type {\n",
       "        vertical-align: middle;\n",
       "    }\n",
       "\n",
       "    .dataframe tbody tr th {\n",
       "        vertical-align: top;\n",
       "    }\n",
       "\n",
       "    .dataframe thead th {\n",
       "        text-align: right;\n",
       "    }\n",
       "</style>\n",
       "<table border=\"1\" class=\"dataframe\">\n",
       "  <thead>\n",
       "    <tr style=\"text-align: right;\">\n",
       "      <th></th>\n",
       "      <th></th>\n",
       "      <th>Culmen Length (mm)</th>\n",
       "      <th>Body Mass (g)</th>\n",
       "    </tr>\n",
       "    <tr>\n",
       "      <th>Species</th>\n",
       "      <th>Sex</th>\n",
       "      <th></th>\n",
       "      <th></th>\n",
       "    </tr>\n",
       "  </thead>\n",
       "  <tbody>\n",
       "    <tr>\n",
       "      <th rowspan=\"2\" valign=\"top\">Adelie</th>\n",
       "      <th>FEMALE</th>\n",
       "      <td>37.26</td>\n",
       "      <td>3368.84</td>\n",
       "    </tr>\n",
       "    <tr>\n",
       "      <th>MALE</th>\n",
       "      <td>40.39</td>\n",
       "      <td>4043.49</td>\n",
       "    </tr>\n",
       "    <tr>\n",
       "      <th rowspan=\"2\" valign=\"top\">Chinstrap</th>\n",
       "      <th>FEMALE</th>\n",
       "      <td>46.57</td>\n",
       "      <td>3527.21</td>\n",
       "    </tr>\n",
       "    <tr>\n",
       "      <th>MALE</th>\n",
       "      <td>51.09</td>\n",
       "      <td>3938.97</td>\n",
       "    </tr>\n",
       "    <tr>\n",
       "      <th rowspan=\"2\" valign=\"top\">Gentoo</th>\n",
       "      <th>FEMALE</th>\n",
       "      <td>45.56</td>\n",
       "      <td>4679.74</td>\n",
       "    </tr>\n",
       "    <tr>\n",
       "      <th>MALE</th>\n",
       "      <td>49.47</td>\n",
       "      <td>5484.84</td>\n",
       "    </tr>\n",
       "  </tbody>\n",
       "</table>\n",
       "</div>"
      ],
      "text/plain": [
       "                  Culmen Length (mm)  Body Mass (g)\n",
       "Species   Sex                                      \n",
       "Adelie    FEMALE               37.26        3368.84\n",
       "          MALE                 40.39        4043.49\n",
       "Chinstrap FEMALE               46.57        3527.21\n",
       "          MALE                 51.09        3938.97\n",
       "Gentoo    FEMALE               45.56        4679.74\n",
       "          MALE                 49.47        5484.84"
      ]
     },
     "execution_count": 10,
     "metadata": {},
     "output_type": "execute_result"
    }
   ],
   "source": [
    "# Table 3 - culmen length and body mass by species & sex\n",
    "\n",
    "penguin_summary_table([\"Species\", \"Sex\"], [\"Culmen Length (mm)\", \"Body Mass (g)\"])"
   ]
  },
  {
   "cell_type": "markdown",
   "metadata": {},
   "source": [
    "We notice that body mass and culmen length measurements are quite different for females and males within species. All of the females in each species are lower body masses and shorter culmen lengths.\n",
    "\n",
    "We are going to graph this relationship to see the distinct groups."
   ]
  },
  {
   "cell_type": "code",
   "execution_count": 11,
   "metadata": {},
   "outputs": [
    {
     "data": {
      "text/plain": [
       "[Text(0, 0.5, 'Body Mass (g)'), Text(0.5, 0, 'Culmen Length (mm)')]"
      ]
     },
     "execution_count": 11,
     "metadata": {},
     "output_type": "execute_result"
    },
    {
     "data": {
      "image/png": "[encoded data removed]",
      "text/plain": [
       "<Figure size 1008x720 with 1 Axes>"
      ]
     },
     "metadata": {
      "needs_background": "light"
     },
     "output_type": "display_data"
    }
   ],
   "source": [
    "# Graph 3 - measurements by sex\n",
    "\n",
    "loc_set = set(penguins['Sex'])\n",
    "fig, ax = plt.subplots(1, figsize = (14,10))\n",
    "ax.clear()\n",
    "for loc in loc_set:\n",
    "    for species in species_set:\n",
    "        label_str = species+', '+loc \n",
    "        ax.scatter(penguins[(penguins['Species'] == species) & (penguins['Sex'] == loc)]['Culmen Length (mm)'],penguins[(penguins['Species'] == species) & (penguins['Sex'] == loc)]['Body Mass (g)'], label = label_str, alpha =0.5)\n",
    "ax.legend(loc = 0, framealpha = 0)\n",
    "ax.set(xlabel = \"Culmen Length (mm)\", ylabel = \"Body Mass (g)\")\n"
   ]
  },
  {
   "cell_type": "markdown",
   "metadata": {},
   "source": [
    "There are six clusters based off of the three measurements we have graphed. Looking at the intersections of the colors on the graphs gives us insightful information about the relationship of these traits. Where the Adelie penguins' body measurements are similar to Gentoo penguins, the Adelie penguins are male and those Gentoo penguins are female. Similarly, when Adelie penguins have similar measurements to Chinstrap penguins, those Adelie penguins are female and the Chinstrap penguins are male. When Chinstrap penguins have very close measurements to Gentoo penguins, those Chinstrap penguins are female and the Gentoo penguins are male.\n",
    "\n",
    "Sex is a better trait to look at than island because it helps us distinguish penguin species when body mass and culmen length measurements are close to those of another species.\n",
    "\n",
    "Just from these tables and graphs, we have analyzed that it would be pretty easy to guess which species any given penguin is just by knowing its culmen length, body mass, and sex. "
   ]
  },
  {
   "cell_type": "markdown",
   "metadata": {},
   "source": [
    "## Prepare Data"
   ]
  },
  {
   "cell_type": "markdown",
   "metadata": {},
   "source": [
    "We must separate our data into target variable y and predictor variables X. The functions that we use to perform this action also should encode the discrete variables in our dataset (sex and species) as well as scale the data for the Neural Network model.\n",
    "\n",
    "We can start by redefining our dataframe in terms of only the columns we are interested in."
   ]
  },
  {
   "cell_type": "code",
   "execution_count": 12,
   "metadata": {},
   "outputs": [
    {
     "ename": "FileNotFoundError",
     "evalue": "[Errno 2] File penguins.csv does not exist: 'penguins.csv'",
     "output_type": "error",
     "traceback": [
      "\u001b[1;31m---------------------------------------------------------------------------\u001b[0m",
      "\u001b[1;31mFileNotFoundError\u001b[0m                         Traceback (most recent call last)",
      "\u001b[1;32m<ipython-input-12-754d2128aff9>\u001b[0m in \u001b[0;36m<module>\u001b[1;34m\u001b[0m\n\u001b[1;32m----> 1\u001b[1;33m \u001b[0mpenguins\u001b[0m \u001b[1;33m=\u001b[0m \u001b[0mpd\u001b[0m\u001b[1;33m.\u001b[0m\u001b[0mread_csv\u001b[0m\u001b[1;33m(\u001b[0m\u001b[1;34m'penguins.csv'\u001b[0m\u001b[1;33m)\u001b[0m\u001b[1;33m\u001b[0m\u001b[1;33m\u001b[0m\u001b[0m\n\u001b[0m\u001b[0;32m      2\u001b[0m \u001b[0my_col\u001b[0m \u001b[1;33m=\u001b[0m \u001b[1;33m[\u001b[0m\u001b[1;34m'Species'\u001b[0m\u001b[1;33m]\u001b[0m \u001b[1;31m# this is the value the model would like to predict\u001b[0m\u001b[1;33m\u001b[0m\u001b[1;33m\u001b[0m\u001b[0m\n\u001b[0;32m      3\u001b[0m \u001b[0mdiscrete_col\u001b[0m \u001b[1;33m=\u001b[0m \u001b[1;33m[\u001b[0m\u001b[1;34m'Sex'\u001b[0m\u001b[1;33m]\u001b[0m \u001b[1;31m# this is a discrete variable, either male or female.\u001b[0m\u001b[1;33m\u001b[0m\u001b[1;33m\u001b[0m\u001b[0m\n\u001b[0;32m      4\u001b[0m \u001b[1;31m#cont_col = ['Body Mass (g)', 'Delta 15 N (o/oo)'] -- In previous versions I had tried using different columns to create the model\u001b[0m\u001b[1;33m\u001b[0m\u001b[1;33m\u001b[0m\u001b[1;33m\u001b[0m\u001b[0m\n\u001b[0;32m      5\u001b[0m \u001b[0mcont_col\u001b[0m \u001b[1;33m=\u001b[0m \u001b[1;33m[\u001b[0m\u001b[1;34m'Body Mass (g)'\u001b[0m\u001b[1;33m,\u001b[0m \u001b[1;34m'Culmen Length (mm)'\u001b[0m\u001b[1;33m]\u001b[0m \u001b[1;31m# these are the continuous columns I found work best\u001b[0m\u001b[1;33m\u001b[0m\u001b[1;33m\u001b[0m\u001b[0m\n",
      "\u001b[1;32m~\\anaconda3\\lib\\site-packages\\pandas\\io\\parsers.py\u001b[0m in \u001b[0;36mparser_f\u001b[1;34m(filepath_or_buffer, sep, delimiter, header, names, index_col, usecols, squeeze, prefix, mangle_dupe_cols, dtype, engine, converters, true_values, false_values, skipinitialspace, skiprows, skipfooter, nrows, na_values, keep_default_na, na_filter, verbose, skip_blank_lines, parse_dates, infer_datetime_format, keep_date_col, date_parser, dayfirst, cache_dates, iterator, chunksize, compression, thousands, decimal, lineterminator, quotechar, quoting, doublequote, escapechar, comment, encoding, dialect, error_bad_lines, warn_bad_lines, delim_whitespace, low_memory, memory_map, float_precision)\u001b[0m\n\u001b[0;32m    674\u001b[0m         )\n\u001b[0;32m    675\u001b[0m \u001b[1;33m\u001b[0m\u001b[0m\n\u001b[1;32m--> 676\u001b[1;33m         \u001b[1;32mreturn\u001b[0m \u001b[0m_read\u001b[0m\u001b[1;33m(\u001b[0m\u001b[0mfilepath_or_buffer\u001b[0m\u001b[1;33m,\u001b[0m \u001b[0mkwds\u001b[0m\u001b[1;33m)\u001b[0m\u001b[1;33m\u001b[0m\u001b[1;33m\u001b[0m\u001b[0m\n\u001b[0m\u001b[0;32m    677\u001b[0m \u001b[1;33m\u001b[0m\u001b[0m\n\u001b[0;32m    678\u001b[0m     \u001b[0mparser_f\u001b[0m\u001b[1;33m.\u001b[0m\u001b[0m__name__\u001b[0m \u001b[1;33m=\u001b[0m \u001b[0mname\u001b[0m\u001b[1;33m\u001b[0m\u001b[1;33m\u001b[0m\u001b[0m\n",
      "\u001b[1;32m~\\anaconda3\\lib\\site-packages\\pandas\\io\\parsers.py\u001b[0m in \u001b[0;36m_read\u001b[1;34m(filepath_or_buffer, kwds)\u001b[0m\n\u001b[0;32m    446\u001b[0m \u001b[1;33m\u001b[0m\u001b[0m\n\u001b[0;32m    447\u001b[0m     \u001b[1;31m# Create the parser.\u001b[0m\u001b[1;33m\u001b[0m\u001b[1;33m\u001b[0m\u001b[1;33m\u001b[0m\u001b[0m\n\u001b[1;32m--> 448\u001b[1;33m     \u001b[0mparser\u001b[0m \u001b[1;33m=\u001b[0m \u001b[0mTextFileReader\u001b[0m\u001b[1;33m(\u001b[0m\u001b[0mfp_or_buf\u001b[0m\u001b[1;33m,\u001b[0m \u001b[1;33m**\u001b[0m\u001b[0mkwds\u001b[0m\u001b[1;33m)\u001b[0m\u001b[1;33m\u001b[0m\u001b[1;33m\u001b[0m\u001b[0m\n\u001b[0m\u001b[0;32m    449\u001b[0m \u001b[1;33m\u001b[0m\u001b[0m\n\u001b[0;32m    450\u001b[0m     \u001b[1;32mif\u001b[0m \u001b[0mchunksize\u001b[0m \u001b[1;32mor\u001b[0m \u001b[0miterator\u001b[0m\u001b[1;33m:\u001b[0m\u001b[1;33m\u001b[0m\u001b[1;33m\u001b[0m\u001b[0m\n",
      "\u001b[1;32m~\\anaconda3\\lib\\site-packages\\pandas\\io\\parsers.py\u001b[0m in \u001b[0;36m__init__\u001b[1;34m(self, f, engine, **kwds)\u001b[0m\n\u001b[0;32m    878\u001b[0m             \u001b[0mself\u001b[0m\u001b[1;33m.\u001b[0m\u001b[0moptions\u001b[0m\u001b[1;33m[\u001b[0m\u001b[1;34m\"has_index_names\"\u001b[0m\u001b[1;33m]\u001b[0m \u001b[1;33m=\u001b[0m \u001b[0mkwds\u001b[0m\u001b[1;33m[\u001b[0m\u001b[1;34m\"has_index_names\"\u001b[0m\u001b[1;33m]\u001b[0m\u001b[1;33m\u001b[0m\u001b[1;33m\u001b[0m\u001b[0m\n\u001b[0;32m    879\u001b[0m \u001b[1;33m\u001b[0m\u001b[0m\n\u001b[1;32m--> 880\u001b[1;33m         \u001b[0mself\u001b[0m\u001b[1;33m.\u001b[0m\u001b[0m_make_engine\u001b[0m\u001b[1;33m(\u001b[0m\u001b[0mself\u001b[0m\u001b[1;33m.\u001b[0m\u001b[0mengine\u001b[0m\u001b[1;33m)\u001b[0m\u001b[1;33m\u001b[0m\u001b[1;33m\u001b[0m\u001b[0m\n\u001b[0m\u001b[0;32m    881\u001b[0m \u001b[1;33m\u001b[0m\u001b[0m\n\u001b[0;32m    882\u001b[0m     \u001b[1;32mdef\u001b[0m \u001b[0mclose\u001b[0m\u001b[1;33m(\u001b[0m\u001b[0mself\u001b[0m\u001b[1;33m)\u001b[0m\u001b[1;33m:\u001b[0m\u001b[1;33m\u001b[0m\u001b[1;33m\u001b[0m\u001b[0m\n",
      "\u001b[1;32m~\\anaconda3\\lib\\site-packages\\pandas\\io\\parsers.py\u001b[0m in \u001b[0;36m_make_engine\u001b[1;34m(self, engine)\u001b[0m\n\u001b[0;32m   1112\u001b[0m     \u001b[1;32mdef\u001b[0m \u001b[0m_make_engine\u001b[0m\u001b[1;33m(\u001b[0m\u001b[0mself\u001b[0m\u001b[1;33m,\u001b[0m \u001b[0mengine\u001b[0m\u001b[1;33m=\u001b[0m\u001b[1;34m\"c\"\u001b[0m\u001b[1;33m)\u001b[0m\u001b[1;33m:\u001b[0m\u001b[1;33m\u001b[0m\u001b[1;33m\u001b[0m\u001b[0m\n\u001b[0;32m   1113\u001b[0m         \u001b[1;32mif\u001b[0m \u001b[0mengine\u001b[0m \u001b[1;33m==\u001b[0m \u001b[1;34m\"c\"\u001b[0m\u001b[1;33m:\u001b[0m\u001b[1;33m\u001b[0m\u001b[1;33m\u001b[0m\u001b[0m\n\u001b[1;32m-> 1114\u001b[1;33m             \u001b[0mself\u001b[0m\u001b[1;33m.\u001b[0m\u001b[0m_engine\u001b[0m \u001b[1;33m=\u001b[0m \u001b[0mCParserWrapper\u001b[0m\u001b[1;33m(\u001b[0m\u001b[0mself\u001b[0m\u001b[1;33m.\u001b[0m\u001b[0mf\u001b[0m\u001b[1;33m,\u001b[0m \u001b[1;33m**\u001b[0m\u001b[0mself\u001b[0m\u001b[1;33m.\u001b[0m\u001b[0moptions\u001b[0m\u001b[1;33m)\u001b[0m\u001b[1;33m\u001b[0m\u001b[1;33m\u001b[0m\u001b[0m\n\u001b[0m\u001b[0;32m   1115\u001b[0m         \u001b[1;32melse\u001b[0m\u001b[1;33m:\u001b[0m\u001b[1;33m\u001b[0m\u001b[1;33m\u001b[0m\u001b[0m\n\u001b[0;32m   1116\u001b[0m             \u001b[1;32mif\u001b[0m \u001b[0mengine\u001b[0m \u001b[1;33m==\u001b[0m \u001b[1;34m\"python\"\u001b[0m\u001b[1;33m:\u001b[0m\u001b[1;33m\u001b[0m\u001b[1;33m\u001b[0m\u001b[0m\n",
      "\u001b[1;32m~\\anaconda3\\lib\\site-packages\\pandas\\io\\parsers.py\u001b[0m in \u001b[0;36m__init__\u001b[1;34m(self, src, **kwds)\u001b[0m\n\u001b[0;32m   1889\u001b[0m         \u001b[0mkwds\u001b[0m\u001b[1;33m[\u001b[0m\u001b[1;34m\"usecols\"\u001b[0m\u001b[1;33m]\u001b[0m \u001b[1;33m=\u001b[0m \u001b[0mself\u001b[0m\u001b[1;33m.\u001b[0m\u001b[0musecols\u001b[0m\u001b[1;33m\u001b[0m\u001b[1;33m\u001b[0m\u001b[0m\n\u001b[0;32m   1890\u001b[0m \u001b[1;33m\u001b[0m\u001b[0m\n\u001b[1;32m-> 1891\u001b[1;33m         \u001b[0mself\u001b[0m\u001b[1;33m.\u001b[0m\u001b[0m_reader\u001b[0m \u001b[1;33m=\u001b[0m \u001b[0mparsers\u001b[0m\u001b[1;33m.\u001b[0m\u001b[0mTextReader\u001b[0m\u001b[1;33m(\u001b[0m\u001b[0msrc\u001b[0m\u001b[1;33m,\u001b[0m \u001b[1;33m**\u001b[0m\u001b[0mkwds\u001b[0m\u001b[1;33m)\u001b[0m\u001b[1;33m\u001b[0m\u001b[1;33m\u001b[0m\u001b[0m\n\u001b[0m\u001b[0;32m   1892\u001b[0m         \u001b[0mself\u001b[0m\u001b[1;33m.\u001b[0m\u001b[0munnamed_cols\u001b[0m \u001b[1;33m=\u001b[0m \u001b[0mself\u001b[0m\u001b[1;33m.\u001b[0m\u001b[0m_reader\u001b[0m\u001b[1;33m.\u001b[0m\u001b[0munnamed_cols\u001b[0m\u001b[1;33m\u001b[0m\u001b[1;33m\u001b[0m\u001b[0m\n\u001b[0;32m   1893\u001b[0m \u001b[1;33m\u001b[0m\u001b[0m\n",
      "\u001b[1;32mpandas\\_libs\\parsers.pyx\u001b[0m in \u001b[0;36mpandas._libs.parsers.TextReader.__cinit__\u001b[1;34m()\u001b[0m\n",
      "\u001b[1;32mpandas\\_libs\\parsers.pyx\u001b[0m in \u001b[0;36mpandas._libs.parsers.TextReader._setup_parser_source\u001b[1;34m()\u001b[0m\n",
      "\u001b[1;31mFileNotFoundError\u001b[0m: [Errno 2] File penguins.csv does not exist: 'penguins.csv'"
     ]
    }
   ],
   "source": [
    "penguins = pd.read_csv('penguins.csv')\n",
    "y_col = ['Species'] # this is the value the model would like to predict\n",
    "discrete_col = ['Sex'] # this is a discrete variable, either male or female.\n",
    "#cont_col = ['Body Mass (g)', 'Delta 15 N (o/oo)'] -- In previous versions I had tried using different columns to create the model\n",
    "cont_col = ['Body Mass (g)', 'Culmen Length (mm)'] # these are the continuous columns I found work best\n",
    "cols = y_col+cont_col + discrete_col # storing the column names that we are using as three different lists allows\n",
    "                                        # for greater flexability throughout the program. The data used can be easily changed.\n",
    "penguins = penguins[cols] # reduce the DataFrame to just the relevent rows\n",
    "penguins['Species'] = penguins['Species'].str.split().str.get(0) # use only first word of species\n",
    "penguins = penguins[penguins['Sex'] != '.'] # there is one row for which penguins['Sex'] == '.' is True.\n",
    "                                            # I do not know how to interpret this, so I am removing this row like I would a NaN value\n"
   ]
  },
  {
   "cell_type": "code",
   "execution_count": null,
   "metadata": {},
   "outputs": [],
   "source": [
    "def clean_data(df_data, target, discrete, continuous):\n",
    "    \"\"\"\n",
    "    Function to prepare the data in a pandas DataFrame object for fitting in a model.\n",
    "    \n",
    "    Parameters:\n",
    "    df_data: DataFrame, contains the raw data.\n",
    "    target: list of length 1 of type str, contains the name of the column which we would like to predict in the model\n",
    "    discrete: list of type str, contains the column name of the discrete variable which we are using\n",
    "    continuous: list of type str, contains the column names of the continuous variable which we are using\n",
    "    \n",
    "    Returns:\n",
    "    X: DataFrame, contains the scaled and transformed data for use in the model\n",
    "    y: 1d numpy array, contains the information we would like the model to use X to predict\n",
    "    \"\"\"\n",
    "    df = df_data.copy() # copy the dataframe\n",
    "    df = df.dropna() # remove all of the NaN values\n",
    "    sc = StandardScaler() # set up the scalar\n",
    "    df[continuous] = sc.fit_transform(df[continuous]) #use the scalar to scale our continuous variables\n",
    "    y = df[target[0]] # separate target variables\n",
    "    le = preprocessing.LabelEncoder() # set up label encoder -- this will take columns of str and assign int\n",
    "    # it is also important to know what our encoded values mean\n",
    "    print(sorted(set(df[discrete[0]])), ' --> {0,1}')\n",
    "    print(sorted(set(y)), ' --> {0,1,2}')\n",
    "    df[discrete[0]] = le.fit_transform(df[discrete[0]]) # encode our discrete variable\n",
    "    X = df[continuous + discrete] #get our X values\n",
    "    y = le.fit_transform(y) # encode our y variable\n",
    "    return X, y\n"
   ]
  },
  {
   "cell_type": "markdown",
   "metadata": {},
   "source": [
    "Next we must separate the data into test and train groups"
   ]
  },
  {
   "cell_type": "code",
   "execution_count": null,
   "metadata": {},
   "outputs": [],
   "source": [
    "train, test = train_test_split(penguins, test_size = 0.3) # 30% of data in test group\n",
    "xtrain, ytrain = clean_data(train, y_col, discrete_col, cont_col)\n",
    "xtest, ytest = clean_data(test, y_col, discrete_col, cont_col)"
   ]
  },
  {
   "cell_type": "markdown",
   "metadata": {},
   "source": [
    "Because we encode the discrete variables we can use a dicitonary to decode them later"
   ]
  },
  {
   "cell_type": "code",
   "execution_count": null,
   "metadata": {},
   "outputs": [],
   "source": [
    "decode_sex = {0:'Female', 1:'Male'}\n",
    "decode_species = {0:'Adelie',1:'Chinstrap',2:'Gentoo'}"
   ]
  },
  {
   "cell_type": "markdown",
   "metadata": {},
   "source": [
    "## Models"
   ]
  },
  {
   "cell_type": "markdown",
   "metadata": {},
   "source": [
    "### Logistic Regression\n",
    "Logistic Regression uses logistic function, which is also sigmoid function. It's an S-shape curve that can take any real valued number and map it into a value between 0 and 1 exclusively according to \n",
    "$\\frac{1}{1+e^{-value}}$\n",
    "\n",
    "Logistic regression uses an equation as the representation similar to linear regression.\n",
    "Target value `X` are combined linearly using coefficient values to predict an output value `y` as a binary values (0 or 1). So, it works with binary data, where either the events happens (1) or not happen (0)\n",
    "\n",
    "Logistic regression is a linear method, but the predictions are transformed using the logistic function\n",
    "\n",
    "The complexity parameter for Logistic Regression is `C`. Higher `C` correspond to less regularization (more flexible and more prone to overfitting)."
   ]
  },
  {
   "cell_type": "code",
   "execution_count": null,
   "metadata": {},
   "outputs": [],
   "source": [
    "from sklearn.linear_model import LogisticRegression\n",
    "\n",
    "LR = LogisticRegression(max_iter = 3000)\n",
    "\n",
    "best_score = 0\n",
    "for C in np.linspace(0.1, 1, 10):\n",
    "    LR  = LogisticRegression (C = C, max_iter = 1500, solver = 'lbfgs', multi_class = 'auto')\n",
    "    cv_score = cross_val_score(LR, xtrain, ytrain, cv = 5).mean()\n",
    "    if cv_score > best_score:\n",
    "        best_C = C\n",
    "        best_score = cv_score\n",
    "print('optimal complexity parameter C =', best_C,' with CV score = ', best_score)"
   ]
  },
  {
   "cell_type": "markdown",
   "metadata": {},
   "source": [
    "Lets use this optimal parameter to create our best model."
   ]
  },
  {
   "cell_type": "code",
   "execution_count": null,
   "metadata": {},
   "outputs": [],
   "source": [
    "LR  = LogisticRegression (C = best_C, max_iter = 1500, solver = 'lbfgs', multi_class = 'auto')\n",
    "LR.fit(xtrain, ytrain)\n",
    "LR.score(xtrain, ytrain), LR.score(xtest, ytest)"
   ]
  },
  {
   "cell_type": "markdown",
   "metadata": {},
   "source": [
    "A nice way to analyze the effectiveness of a model is to look at its confusion matrix. This matrix compares the predicitons our model made with the actual values of the target variables. We can write a function to get a nice visual of this matrix."
   ]
  },
  {
   "cell_type": "code",
   "execution_count": null,
   "metadata": {},
   "outputs": [],
   "source": [
    "# visualize confusion matrix\n",
    "from sklearn.metrics import confusion_matrix\n",
    "import seaborn as sn\n",
    "\n",
    "def plot_confusion_matrix(model, X, y):\n",
    "    y_pred = model.predict(X)\n",
    "    cm = confusion_matrix(y, y_pred)\n",
    "    print (cm)\n",
    "    \n",
    "    df_cm = pd.DataFrame(cm, range(3), range(3))\n",
    "    fig, ax = plt.subplots(1)\n",
    "    sn.heatmap(df_cm, annot=True, ax = ax, cbar = False, \n",
    "           xticklabels = ['Adelie', 'Chinstrap', 'Gentoo'], \n",
    "           yticklabels = ['Adelie', 'Chinstrap', 'Gentoo'])\n",
    "    #ax.set(xlabel = 'Predicted labels', ylabel = 'True labels')\n",
    "    ax.set_xlabel('Predicted labels', fontsize = 16)\n",
    "    ax.set_ylabel('True labels', fontsize = 16)\n",
    "    return None"
   ]
  },
  {
   "cell_type": "code",
   "execution_count": null,
   "metadata": {},
   "outputs": [],
   "source": [
    "plot_confusion_matrix(LR, xtest, ytest)"
   ]
  },
  {
   "cell_type": "markdown",
   "metadata": {},
   "source": [
    "Another way to analyze the model is to plot decision regions of the parameter space. In this method, we create one plot for each value of the discrete predictor variable. We then create a grid in the remaining two dimensional parameter space and ask the model to make a prediciton for each point on the grid. Because the target variable is encoded into integers we are able to create a contour plot of the decision grid with clear decision regions."
   ]
  },
  {
   "cell_type": "code",
   "execution_count": null,
   "metadata": {},
   "outputs": [],
   "source": [
    "def plot_regions(fit, x,y, sex):\n",
    "    \"\"\"\n",
    "    Plot the decision regions of a classifier fit. Also plot the actual values of some dataset x and y related to\n",
    "    fit, be it training data or testing data. All this is done for a given sex.\n",
    "    \"\"\"\n",
    "    \n",
    "    x0 = x[cont_col[0]] # x axis\n",
    "    x1 = x[cont_col[1]] # y axis\n",
    "    # create a grid\n",
    "    grid_x = np.linspace(x0.min(), x0.max(), 501)\n",
    "    grid_y = np.linspace(x1.min(), x1.max(), 501)\n",
    "    xx, yy = np.meshgrid(grid_x, grid_y)\n",
    "    # all the values for sex are the same for each plot\n",
    "    grid_sex = np.zeros(len(xx.ravel())) + sex\n",
    "    p = fit.predict(np.c_[xx.ravel(), yy.ravel(), grid_sex]) # create array of predicions\n",
    "    p = p.reshape(xx.shape) # reshape so this array can be plotted\n",
    "    fig, ax = plt.subplots(1)\n",
    "    ax.contourf(xx, yy, p, cmap = \"jet\", alpha = 0.2) # create contour plot\n",
    "    ax.scatter(x0[x['Sex'] == sex],x1[x['Sex'] == sex],c=y[x['Sex'] == sex], cmap = 'jet') # scatter actual data\n",
    "    ax.set_xlim(x0.min(), x0.max())\n",
    "    ax.set_ylim(x1.min(), x1.max())\n",
    "    # text shows the species that each region corresponds to\n",
    "    ax.text(-1.5,-1.5,decode_species[0])\n",
    "    ax.text(-1.5,1.5,decode_species[1])\n",
    "    ax.text(1.5,1,decode_species[2])\n",
    "    ax.set_title(decode_sex[sex])\n",
    "    ax.set(xlabel = cont_col[0],ylabel = cont_col[1])\n"
   ]
  },
  {
   "cell_type": "code",
   "execution_count": null,
   "metadata": {},
   "outputs": [],
   "source": [
    "plot_regions(LR,xtest,ytest,0)\n",
    "plot_regions(LR,xtest,ytest,1)"
   ]
  },
  {
   "cell_type": "markdown",
   "metadata": {},
   "source": [
    "---\n",
    "---\n",
    "---\n",
    "### Decision Tree Model\n",
    "Decision Tree are supervised learning method used for classification and regression. Decision trees learn from data to approcimate a sine curve with a set of if-then-else decision rules. The deeper the tree (high `max_depth`), the more complex the decision rules and the fitter the model (more complex, more prone to overfitting).\n",
    "\n",
    "Decision tree builds classification or regression models in the forms of a tree structure. It breaks down a data set into smaller and smaller subsets while at the same time an associated decision tree is incrementally developed. The final result is a tree with decision nodes and leaf nodes. A decision node has 2 or more branches. Leaf node in a tree which corresopont to the best predictor (root node). \n",
    "\n",
    "Mechanism:\n",
    "- Split the input data set into subsets.\n",
    "- Pruning - shortening of branches of the tree (reduce tree size by turning some branch nodes into leaf nodes, and removing the leaf nodes under the original branch (simpler tree often avoids overfitting).\n",
    "- Tree selection: finding the smallest tree that fits the data, which yields the lowest cross-validated error.\n",
    "\n",
    "[reference link](https://chiragsehra42.medium.com/decision-trees-explained-easily-28f23241248#:~:text=A%20decision%20tree%20classifier%20is,belonngs%20to%20the%20same%20class.)"
   ]
  },
  {
   "cell_type": "markdown",
   "metadata": {},
   "source": [
    "We are using the DecisionTreeClassifier object from the scikit-learn module to implement our tree. Let's find the best complexity"
   ]
  },
  {
   "cell_type": "code",
   "execution_count": null,
   "metadata": {},
   "outputs": [],
   "source": [
    "best_score = 0\n",
    "for d in range(1,10):\n",
    "    T = tree.DecisionTreeClassifier(max_depth = d)\n",
    "    cv_score = cross_val_score(T, xtrain, ytrain, cv = 5).mean()\n",
    "    if cv_score > best_score:\n",
    "        best_d = d\n",
    "        best_score = cv_score\n",
    "print('optimal complexity parameter d =', best_d,' with CV score = ', best_score)"
   ]
  },
  {
   "cell_type": "markdown",
   "metadata": {},
   "source": [
    "It seems here that our best `max_depth` is 7"
   ]
  },
  {
   "cell_type": "code",
   "execution_count": null,
   "metadata": {},
   "outputs": [],
   "source": [
    "T = tree.DecisionTreeClassifier (max_depth = best_d)\n",
    "T.fit(xtrain, ytrain)\n",
    "T.score(xtrain, ytrain), T.score(xtest, ytest)"
   ]
  },
  {
   "cell_type": "markdown",
   "metadata": {},
   "source": [
    "We can also look at the confusion matrix and the decision regions for this model."
   ]
  },
  {
   "cell_type": "code",
   "execution_count": null,
   "metadata": {},
   "outputs": [],
   "source": [
    "plot_confusion_matrix(T, xtest, ytest)"
   ]
  },
  {
   "cell_type": "code",
   "execution_count": null,
   "metadata": {},
   "outputs": [],
   "source": [
    "plot_regions(T,xtest,ytest,0)\n",
    "plot_regions(T,xtest,ytest,1)"
   ]
  },
  {
   "cell_type": "markdown",
   "metadata": {},
   "source": [
    "It appears that when compared to the logistic regression model, these decision regions are characterized as only containing verticies with right angles. The odd shapes also suggest that this model may be prone to overfitting."
   ]
  },
  {
   "cell_type": "markdown",
   "metadata": {},
   "source": [
    "---\n",
    "---\n",
    "---\n",
    "### Neural Network Model\n",
    "\n",
    "Neural networks are simulated structures of artificial neurons. They are simplified models of the way the human brain processes information.\n",
    "\n",
    "Structurally, these networks contain at least 3 layers of neurons. There is an input and an output layer with shapes that depend on the data being processed. There are also a variable number of hidden layers with sizes that are set by the user training the model. \n",
    "\n",
    "Let's start by defining a classifier object using MLP from scikit-learn"
   ]
  },
  {
   "cell_type": "code",
   "execution_count": null,
   "metadata": {},
   "outputs": [],
   "source": [
    "def NNclassifier(layers):\n",
    "    \"\"\"\n",
    "    Create a classifier from MLPClassifier with hidden layer structure described by layers, which is either an integer or a tuple of integers\n",
    "    For the max_iter kwarg I used 1000 because I found it allowed the model to converge consistently.\n",
    "    \"\"\"\n",
    "    return MLPClassifier(hidden_layer_sizes=layers, max_iter=1000,random_state=1)"
   ]
  },
  {
   "cell_type": "markdown",
   "metadata": {},
   "source": [
    "We now want to test how using different values for `layers` can change the accuracy of each model. `layers` is a tuple. Each entry in the tuple is the number of neurons to place in each hidden layer. For example `NNclassifier((8,8))` would create a neural network with two hidden layers, each of size 8. We would like to test out many different sizes of hidden layers and vary the number of layers.\n",
    "\n",
    "Let's start by writing a function that allows us to look at many different every size of hidden layer within some range. The function `get_possible_tuples()` returns all arangements of some list of values for that are possible in an array of size `length`."
   ]
  },
  {
   "cell_type": "code",
   "execution_count": null,
   "metadata": {},
   "outputs": [],
   "source": [
    "def get_possible_tuples(length, values_list):\n",
    "    \"\"\"\n",
    "    returns all arangements of data contained in values_list that are possible in an array of size length\n",
    "    \"\"\"\n",
    "    values = list(set(values_list)) #remove duplicates\n",
    "    val_arr = [] # initialize array to contain values to be passed to np.meshgrid()\n",
    "    for i in range(length): # to get the correct shape we must pass values length times to np.meshgrid()\n",
    "        val_arr.append(values)\n",
    "    return np.unique(np.array(np.meshgrid(*val_arr)).T.reshape(-1,length)[:,:length],axis=0) #all combos"
   ]
  },
  {
   "cell_type": "markdown",
   "metadata": {},
   "source": [
    "We can now write a function `find_best_hidden_layers()` that will go through every value for the number of hidden layers (the `length` parameter in the above function) up to some limit and create a model for each item returned by `get_possible_tuples()` for that `length` and for `values_list` described by some `**kwargs`. Some models will give a convergence warning that will will ignore, so I will silence it."
   ]
  },
  {
   "cell_type": "code",
   "execution_count": null,
   "metadata": {},
   "outputs": [],
   "source": [
    "from sklearn.utils.testing import ignore_warnings\n",
    "from sklearn.exceptions import ConvergenceWarning\n",
    "\n",
    "@ignore_warnings(category=ConvergenceWarning)\n",
    "def find_best_hidden_layers(classifier_func, xtrain, ytrain, xtest, ytest, **kwargs):\n",
    "    \"\"\"\n",
    "    Finds the best number of hidden layers to use in a neural network given by classifier_func.\n",
    "    xtrain and ytrain are pandas DataFrame objects containing training data for the neural network\n",
    "    xtest and ytest contain the testing data to evaluate the models.\n",
    "    The kwargs determine the number of layers tested and the values tested in those layers\n",
    "    \"\"\"\n",
    "    #kwargs\n",
    "    xmin = kwargs.get('xmin',0)\n",
    "    xmax = kwargs.get('xmax', 10)\n",
    "    spacing = kwargs.get('spacing', 'linear')\n",
    "    step = kwargs.get('step', 1)\n",
    "    max_layers = kwargs.get('max_layers', 4)\n",
    "    \n",
    "    #build our values list\n",
    "    if spacing == 'linear':\n",
    "        values = np.arange(xmin,xmax,step)\n",
    "    elif spacing == 'exp':\n",
    "        values = step**np.arange(xmin,xmax)\n",
    "    \n",
    "    best = [0,0] # initialize our best value list\n",
    "    \n",
    "    # go from 1 layer to max_layers layers\n",
    "    for i in range(max_layers):\n",
    "        n_layers = i+1\n",
    "        layer_sizes = get_possible_tuples(n_layers,values)\n",
    "        # go through each value returned by get_possible_tuples() and use it at the size of hidden layers in a model\n",
    "        for size in layer_sizes:\n",
    "            fit = classifier_func(size).fit(xtrain, ytrain) # create a classifier with n_neurons neurons in the hidden layer\n",
    "            #score = fit.score(xtest,ytest) # determine the score from our test group\n",
    "            score = cross_val_score(fit, xtrain, ytrain, cv = 5).mean()\n",
    "            if score > best[0]:\n",
    "                best = [score,size]\n",
    "    print('Best shape = ', best[1], ' with cv_score = %.2f' % best[0])\n",
    "    return best[1]"
   ]
  },
  {
   "cell_type": "markdown",
   "metadata": {},
   "source": [
    "We don't know anything about the optimal number of layers or how many neurons to include in each layer. We first will test a few layers with the number of neurons being different powers of 2. This allows us to quickly test different orders of magnitude."
   ]
  },
  {
   "cell_type": "code",
   "execution_count": null,
   "metadata": {},
   "outputs": [],
   "source": [
    "hidden_layers = find_best_hidden_layers(NNclassifier,xtrain,ytrain,xtest,ytest,xmin=1,xmax=3,spacing='exp',step = 2,max_layers=3)"
   ]
  },
  {
   "cell_type": "markdown",
   "metadata": {},
   "source": [
    "We can see here that the best number of neurons in each layer seems to be of the order $2^2$. We can look in the range ($2^1$, $2^3$) for better models."
   ]
  },
  {
   "cell_type": "code",
   "execution_count": null,
   "metadata": {},
   "outputs": [],
   "source": [
    "hidden_layers = find_best_hidden_layers(NNclassifier,xtrain,ytrain,xtest,ytest,xmin=3,xmax=7,spacing='linear',step = 1, max_layers=3)"
   ]
  },
  {
   "cell_type": "markdown",
   "metadata": {},
   "source": [
    "It appears that the best shape for the hidden layers is (6,3,6). We can now create this model using our optimal complexity and look at the confusion matrix and decision regions."
   ]
  },
  {
   "cell_type": "code",
   "execution_count": null,
   "metadata": {},
   "outputs": [],
   "source": [
    "NN = NNclassifier(hidden_layers).fit(xtrain,ytrain)"
   ]
  },
  {
   "cell_type": "code",
   "execution_count": null,
   "metadata": {},
   "outputs": [],
   "source": [
    "print(NN.score(xtrain,ytrain),NN.score(xtest,ytest))\n",
    "plot_confusion_matrix(NN, xtest, ytest)\n",
    "plot_regions(NN,xtest,ytest,1)\n",
    "plot_regions(NN,xtest,ytest,0)"
   ]
  },
  {
   "cell_type": "markdown",
   "metadata": {},
   "source": [
    "### Analysis\n",
    "\n",
    "| Model | Train | Test \n",
    "| --- | --- | --- |\n",
    "| Logistic Regression | 0.978 | 0.939 |\n",
    "| Decision Tree | 0.991 | 0.929 |\n",
    "| Neural Network | 0.996 | 0.990 |\n"
   ]
  },
  {
   "cell_type": "markdown",
   "metadata": {},
   "source": [
    "I would also like to see how these models perform with a smaller training group."
   ]
  },
  {
   "cell_type": "code",
   "execution_count": null,
   "metadata": {},
   "outputs": [],
   "source": [
    "train, test = train_test_split(penguins, test_size = 0.6) # 60% of data in test group\n",
    "xtrain, ytrain = clean_data(train, y_col, discrete_col, cont_col)\n",
    "xtest, ytest = clean_data(test, y_col, discrete_col, cont_col)"
   ]
  },
  {
   "cell_type": "code",
   "execution_count": null,
   "metadata": {},
   "outputs": [],
   "source": [
    "NN = NNclassifier(hidden_layers).fit(xtrain,ytrain)\n",
    "T = tree.DecisionTreeClassifier (max_depth = best_d)\n",
    "T = T.fit(xtrain, ytrain)\n",
    "LR  = LogisticRegression (C = best_C, max_iter = 1500, solver = 'lbfgs', multi_class = 'auto')\n",
    "LR = LR.fit(xtrain, ytrain)"
   ]
  },
  {
   "cell_type": "code",
   "execution_count": null,
   "metadata": {},
   "outputs": [],
   "source": [
    "print(NN.score(xtrain,ytrain),NN.score(xtest,ytest))\n",
    "print(T.score(xtrain,ytrain),T.score(xtest,ytest))\n",
    "print(LR.score(xtrain,ytrain),LR.score(xtest,ytest))"
   ]
  },
  {
   "cell_type": "markdown",
   "metadata": {},
   "source": [
    "With a training group comprising 40% of the data we get the results:\n",
    "\n",
    "| Model | Train | Test |\n",
    "| --- | --- | --- |\n",
    "| Logistic Regression | 0.969 | 0.950 |\n",
    "| Decision Tree | 1.000 | 0.861 |\n",
    "| Neural Network | 1.000 | 0.950 |\n",
    "\n",
    "The logistic regression and the neural network give similar accuracy, while the decision tree is significantly less accurate.\n",
    "\n",
    "Let's reduce the size of our training group one last time."
   ]
  },
  {
   "cell_type": "code",
   "execution_count": null,
   "metadata": {},
   "outputs": [],
   "source": [
    "train, test = train_test_split(penguins, test_size = 0.9) # 90% of data in test group\n",
    "xtrain, ytrain = clean_data(train, y_col, discrete_col, cont_col)\n",
    "xtest, ytest = clean_data(test, y_col, discrete_col, cont_col)"
   ]
  },
  {
   "cell_type": "code",
   "execution_count": null,
   "metadata": {},
   "outputs": [],
   "source": [
    "NN = NNclassifier((4,6,5)).fit(xtrain,ytrain)\n",
    "T = tree.DecisionTreeClassifier (max_depth = best_d)\n",
    "T = T.fit(xtrain, ytrain)\n",
    "LR  = LogisticRegression (C = best_C, max_iter = 1500, solver = 'lbfgs', multi_class = 'auto')\n",
    "LR = LR.fit(xtrain, ytrain)"
   ]
  },
  {
   "cell_type": "code",
   "execution_count": null,
   "metadata": {
    "scrolled": true
   },
   "outputs": [],
   "source": [
    "print(NN.score(xtrain,ytrain),NN.score(xtest,ytest))\n",
    "print(T.score(xtrain,ytrain),T.score(xtest,ytest))\n",
    "print(LR.score(xtrain,ytrain),LR.score(xtest,ytest))"
   ]
  },
  {
   "cell_type": "markdown",
   "metadata": {},
   "source": [
    "Using only 10% of our data to train the model we arrive at the following results:\n",
    "\n",
    "| Model | Train | Test |\n",
    "| --- | --- | --- |\n",
    "| Logistic Regression | 1.000 | 0.864 |\n",
    "| Decision Tree | 1.000 | 0.844 |\n",
    "| Neural Network | 1.000 | 0.953 |\n"
   ]
  },
  {
   "cell_type": "markdown",
   "metadata": {},
   "source": [
    "The neural network model clearly performs the best on the test data. In each dataset we have looked at it performs as well as or better than the other models.\n",
    "\n",
    "It catalogue penguin species on a large scale we would measure a penguins culmen length, body mass, and sex and use a neural network to predict the penguin's species."
   ]
  }
 ],
 "metadata": {
  "kernelspec": {
   "display_name": "Python 3",
   "language": "python",
   "name": "python3"
  },
  "language_info": {
   "codemirror_mode": {
    "name": "ipython",
    "version": 3
   },
   "file_extension": ".py",
   "mimetype": "text/x-python",
   "name": "python",
   "nbconvert_exporter": "python",
   "pygments_lexer": "ipython3",
   "version": "3.8.3"
  }
 },
 "nbformat": 4,
 "nbformat_minor": 2
}
